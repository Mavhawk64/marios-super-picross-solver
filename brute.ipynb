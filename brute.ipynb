{
 "cells": [
  {
   "cell_type": "code",
   "execution_count": 10,
   "id": "c6db0f71",
   "metadata": {},
   "outputs": [],
   "source": [
    "# Importing the necessary libraries\n",
    "from itertools import product"
   ]
  },
  {
   "cell_type": "code",
   "execution_count": 11,
   "id": "4facf8b2",
   "metadata": {},
   "outputs": [],
   "source": [
    "def solve_picross(x_axis, y_axis, partial_grid=None):\n",
    "    # Getting the dimensions of the grid\n",
    "    row_length = len(y_axis)\n",
    "    col_length = len(x_axis)\n",
    "\n",
    "    # Creating the solution grid based on the partial grid if provided, otherwise initializing with zeros\n",
    "    solution = partial_grid if partial_grid is not None else [\n",
    "        [0] * col_length for _ in range(row_length)]\n",
    "\n",
    "    def is_valid():\n",
    "        # Check row constraints\n",
    "        for i in range(row_length):\n",
    "            row = solution[i]\n",
    "            blocks = get_blocks(row)\n",
    "            if blocks != y_axis[i]:\n",
    "                return False\n",
    "\n",
    "        # Check column constraints\n",
    "        for j in range(col_length):\n",
    "            col = [solution[i][j] for i in range(row_length)]\n",
    "            blocks = get_blocks(col)\n",
    "            if blocks != x_axis[j]:\n",
    "                return False\n",
    "\n",
    "        return True\n",
    "\n",
    "    def get_blocks(lst):\n",
    "        # Helper function to extract blocks from a list\n",
    "        blocks = []\n",
    "        count = 0\n",
    "        for num in lst:\n",
    "            if num == 1:\n",
    "                count += 1\n",
    "            elif count > 0:\n",
    "                blocks.append(count)\n",
    "                count = 0\n",
    "        if count > 0:\n",
    "            blocks.append(count)\n",
    "        return blocks\n",
    "\n",
    "    # Finding the indices of ambiguous tiles (zeros) in the partial grid\n",
    "    ambiguous_indices = [(i, j) for i in range(row_length)\n",
    "                         for j in range(col_length) if partial_grid[i][j] == 0]\n",
    "\n",
    "    # Iterating over the configurations\n",
    "    for configuration in product([1, 2], repeat=len(ambiguous_indices)):\n",
    "        for idx, value in enumerate(configuration):\n",
    "            i, j = ambiguous_indices[idx]\n",
    "            solution[i][j] = value\n",
    "\n",
    "        if is_valid():\n",
    "            return solution\n",
    "\n",
    "    return None"
   ]
  },
  {
   "cell_type": "code",
   "execution_count": 12,
   "id": "15736ba5",
   "metadata": {},
   "outputs": [],
   "source": [
    "# Example usage\n",
    "x_axis = [[7], [1, 1, 1], [1, 1, 1], [1, 5], [\n",
    "    1], [1], [1, 5], [1, 1, 1], [1, 1, 1], [7]]\n",
    "y_axis = [[0], [2, 2], [1, 1, 1, 1], [1, 1], [1, 1], [\n",
    "    4, 4], [1, 1, 1, 1], [1, 4, 1], [1, 1, 1, 1], [3, 3]]\n",
    "partial_grid = [\n",
    "    [2, 2, 2, 2, 2, 2, 2, 2, 2, 2],\n",
    "    [0, 0, 0, 0, 0, 0, 0, 0, 0, 0],\n",
    "    [0, 0, 0, 0, 0, 0, 0, 0, 0, 0],\n",
    "    [1, 2, 2, 2, 2, 2, 2, 2, 2, 1],\n",
    "    [1, 2, 2, 2, 2, 2, 2, 2, 2, 1],\n",
    "    [1, 1, 1, 1, 2, 2, 1, 1, 1, 1],\n",
    "    [1, 2, 2, 1, 2, 2, 1, 2, 2, 1],\n",
    "    [0, 0, 0, 0, 0, 0, 0, 0, 0, 0],\n",
    "    [0, 0, 0, 0, 0, 0, 0, 0, 0, 0],\n",
    "    [0, 0, 0, 0, 0, 0, 0, 0, 0, 0]\n",
    "]"
   ]
  },
  {
   "cell_type": "code",
   "execution_count": 13,
   "id": "4834e006",
   "metadata": {},
   "outputs": [],
   "source": [
    "x_axis = [[1], [1, 1], [1, 3], [3, 1], [2]]\n",
    "y_axis = [[5], [2], [2], [2], [2]]\n",
    "partial_grid = [\n",
    "    [1, 1, 1, 1, 1],\n",
    "    [2, 0, 2, 1, 0],\n",
    "    [2, 2, 1, 1, 2],\n",
    "    [2, 0, 1, 2, 0],\n",
    "    [2, 2, 1, 1, 2]\n",
    "]\n"
   ]
  },
  {
   "cell_type": "code",
   "execution_count": 14,
   "id": "4d43ca8f",
   "metadata": {},
   "outputs": [
    {
     "name": "stdout",
     "output_type": "stream",
     "text": [
      "[1, 1, 1, 1, 1]\n",
      "[2, 2, 2, 1, 1]\n",
      "[2, 2, 1, 1, 2]\n",
      "[2, 1, 1, 2, 2]\n",
      "[2, 2, 1, 1, 2]\n"
     ]
    }
   ],
   "source": [
    "# Solving the picross puzzle\n",
    "solution = solve_picross(x_axis, y_axis, partial_grid)\n",
    "\n",
    "# Printing the solution if found, otherwise printing a message\n",
    "if solution is not None:\n",
    "    for row in solution:\n",
    "        print(row)\n",
    "else:\n",
    "    print(\"No solution found.\")"
   ]
  }
 ],
 "metadata": {
  "kernelspec": {
   "display_name": "Python 3",
   "name": "python3"
  },
  "language_info": {
   "codemirror_mode": {
    "name": "ipython",
    "version": 3
   },
   "file_extension": ".py",
   "mimetype": "text/x-python",
   "name": "python",
   "nbconvert_exporter": "python",
   "pygments_lexer": "ipython3",
   "version": "3.11.4"
  }
 },
 "nbformat": 4,
 "nbformat_minor": 5
}
