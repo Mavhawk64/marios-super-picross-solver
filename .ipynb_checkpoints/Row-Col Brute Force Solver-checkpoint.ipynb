{
 "cells": [
  {
   "cell_type": "code",
   "execution_count": 1,
   "id": "e582e18d",
   "metadata": {},
   "outputs": [],
   "source": [
    "# generate permutations of a list of numbers\n",
    "from itertools import permutations, combinations\n",
    "# time the program\n",
    "import time\n",
    "# copy the board\n",
    "import copy\n",
    "import numpy as np\n",
    "from PIL import Image"
   ]
  },
  {
   "cell_type": "code",
   "execution_count": 2,
   "id": "167f136b",
   "metadata": {},
   "outputs": [],
   "source": [
    "row_clues = None\n",
    "col_clues = [[1], [2], [1, 1, 3], [5, 3], [\n",
    "    5, 3], [10], [5, 3], [5, 3], [1, 1, 3], [2]]\n",
    "\n",
    "width = None\n",
    "height = None\n",
    "board = None\n"
   ]
  },
  {
   "cell_type": "code",
   "execution_count": 3,
   "id": "80ae6c87",
   "metadata": {},
   "outputs": [],
   "source": [
    "def apply_solution_to_board(arr,row=None,col=None):\n",
    "    if row is not None:\n",
    "        board[row] = list(arr)\n",
    "    elif col is not None:\n",
    "        for i in range(len(arr)):\n",
    "            board[i][col] = arr[i]"
   ]
  },
  {
   "cell_type": "code",
   "execution_count": 4,
   "id": "3423ec0e",
   "metadata": {},
   "outputs": [],
   "source": [
    "def apply_restrictions(res, dct):\n",
    "    # provided a list of arrays and a dictionary of restrictions, remove the invalid arrays and return the new list\n",
    "    # eg. res = [(1, 0, 1, 1), (1, 1, 0, 1)] and dct = {-1: [1], 1: []} -> this means that there can only be a -1 at index 1 (if it is 0, then rewrite to -1. if it is 1, remove the list)\n",
    "    removals = []\n",
    "    res = [list(i) for i in res]\n",
    "    for i in range(len(res)):\n",
    "        for k in dct[-1]:\n",
    "            if res[i][k] == 0 or res[i][k] == -1:\n",
    "                res[i][k] = -1\n",
    "            else:\n",
    "                removals.append(res[i])\n",
    "        for k in dct[1]:\n",
    "            if res[i][k] != 1:\n",
    "                removals.append(res[i])\n",
    "    rs = [tuple(i) for i in res if i not in removals]\n",
    "    print(res,\"-\",removals,\"=\",rs)\n",
    "    return rs"
   ]
  },
  {
   "cell_type": "code",
   "execution_count": 5,
   "id": "19c3b11e",
   "metadata": {},
   "outputs": [],
   "source": [
    "def calculate_spaces(arr, wh):\n",
    "    # provided an array and a width/height, return the number of spaces\n",
    "    # arr = [1,2] -- [_,x,_,x,x,_,_,_,_,_]\n",
    "    # wh = 10\n",
    "    # return 7\n",
    "    # arr = [1,2,3] -- [_,x,_,x,x_,x,x,x,_]\n",
    "    # wh = 10\n",
    "    # return 4\n",
    "    return wh - sum(arr)"
   ]
  },
  {
   "cell_type": "code",
   "execution_count": 6,
   "id": "8eb831f5",
   "metadata": {},
   "outputs": [],
   "source": [
    "def check_arr_valid(arr):\n",
    "    # Rules: arr can only be valid if every number is surrounded by 0 or -1 or the edge of the array\n",
    "    # arr = [-1,1,-1,2] -- valid\n",
    "    # arr = [1,1,-1] -- invalid\n",
    "    for i in range(len(arr)):\n",
    "        if i > 0 and arr[i] > 0 and arr[i-1] > 0:\n",
    "            return False\n",
    "    return True"
   ]
  },
  {
   "cell_type": "code",
   "execution_count": 7,
   "id": "caa979eb",
   "metadata": {},
   "outputs": [],
   "source": [
    "def check_arr_solved(arr,clue):\n",
    "    # eg. arr = [0,0,0,0,0,1,0,0,0,0], clue = [1], return True\n",
    "    # This is a solved array, but it consists of 0s instead of -1s\n",
    "    # Assuming arr is valid (it should always be valid in this instance)\n",
    "    # we may count the number of 1s in arr and compare it to the clue's sum\n",
    "    if sum(clue) == arr.count(1):\n",
    "        arr = list(arr)\n",
    "        # swap 0 with -1s\n",
    "        for i in range(len(arr)):\n",
    "            if arr[i] == 0:\n",
    "                arr[i] = -1\n",
    "    return tuple(arr)"
   ]
  },
  {
   "cell_type": "code",
   "execution_count": 8,
   "id": "4ed147ee",
   "metadata": {},
   "outputs": [],
   "source": [
    "def generate_arr(arr,wh):\n",
    "    num_spaces = calculate_spaces(arr,wh)\n",
    "    return arr + [0 for _ in range(num_spaces)] "
   ]
  },
  {
   "cell_type": "code",
   "execution_count": 9,
   "id": "004056b6",
   "metadata": {},
   "outputs": [],
   "source": [
    "def generate_full_arr(arr):\n",
    "    # provided arr, return the row/col array\n",
    "    # eg. arr = [1,0,2,0] => [1,-1,1,1,-1]\n",
    "    # eg. arr = [1,0,2,0,1] => [1,-1,1,1,-1,1]\n",
    "    # etc.\n",
    "    result = []\n",
    "    for i in range(len(arr)):\n",
    "        result += [1 for _ in range(arr[i])] if arr[i] > 0 else [0]\n",
    "    return tuple(result)"
   ]
  },
  {
   "cell_type": "code",
   "execution_count": 10,
   "id": "56804cc7",
   "metadata": {},
   "outputs": [],
   "source": [
    "def get_overlap(res):\n",
    "    # provided a list of arrays, return the overlap:\n",
    "    # this can simply be done with the sum of the arrays at each index\n",
    "    # eg. res = [(1, 0, 1, 1), (1, 1, 0, 1)] => (2, 1, 1, 2)\n",
    "    # if sum == len(res), then that index is a 1\n",
    "    # elif sum == -len(res), then that index is a -1\n",
    "    # else that index is a 0 \n",
    "    print(res)\n",
    "    result = [0] * len(res[0])\n",
    "    for i in range(len(res)):\n",
    "        for j in range(len(res[i])):\n",
    "            result[j] += res[i][j]\n",
    "    return tuple([1 if i == len(res) else -1 if i == -len(res) else 0 for i in result])"
   ]
  },
  {
   "cell_type": "code",
   "execution_count": 11,
   "id": "239f7d97",
   "metadata": {},
   "outputs": [],
   "source": [
    "def get_restrictions(row=None,col=None):\n",
    "    if row != None:\n",
    "        return {-1: [i for i in range(len(board[row])) if board[row][i] == -1], 1: [i for i in range(len(board[row])) if board[row][i] == 1]}\n",
    "    elif col != None:\n",
    "        return {-1: [i for i in range(len(board)) if board[i][col] == -1], 1: [i for i in range(len(board)) if board[i][col] == 1]}"
   ]
  },
  {
   "cell_type": "code",
   "execution_count": 12,
   "id": "add9a8fb",
   "metadata": {},
   "outputs": [],
   "source": [
    "def parse_clues(path):\n",
    "    # open the file\n",
    "    # read the file:\n",
    "    # each line is a new array of clues\n",
    "    # each number is separated by a space\n",
    "    # eg. 1 2 3 4 5\n",
    "    # eg. 1 2 3\n",
    "    with open(path) as f:\n",
    "        content = f.readlines()\n",
    "    content = [x.strip() for x in content]\n",
    "    content = [x.split(\" \") for x in content]\n",
    "    content = [[int(i) for i in x] for x in content]\n",
    "    return content"
   ]
  },
  {
   "cell_type": "code",
   "execution_count": 13,
   "id": "8de43523",
   "metadata": {},
   "outputs": [],
   "source": [
    "# Let the output be a picture of the solved board where the blocks are BLACK squares and the empty spaces are WHITE squares\n",
    "# Let us define the function that will save the PNG file to output.png using the PIL library and numpy\n",
    "# Save it as a 25*(len(board))x25*(len(board)) image where each pixel maps to 25x25 pixels on the board\n",
    "def show_solution(b):\n",
    "    board = copy.deepcopy(b)\n",
    "    board = np.array(board)\n",
    "    # Create a 2D array of 0s with the same size as the board\n",
    "    # output is initialized with #CD853F (PERU) as the background color and #800000 (MAROON) as the block color\n",
    "    color_map = {\n",
    "        0: (0, 0, 0),\n",
    "        1: (205, 133, 63),\n",
    "        -1: (128, 0, 0)\n",
    "    }\n",
    "\n",
    "    # Determine the size of the output image\n",
    "    len_input = board.shape[0]\n",
    "    output_size = (25 * len_input, 25 * len_input)\n",
    "\n",
    "    # Create the output image\n",
    "    output_image = Image.new('RGB', output_size)\n",
    "\n",
    "    # Draw squares for each value in the input array\n",
    "    for i in range(len_input):\n",
    "        for j in range(len_input):\n",
    "            color = color_map[board[j, i]]\n",
    "            square = (i * 25, j * 25, (i + 1) * 25, (j + 1) * 25)\n",
    "            output_image.paste(color, square)\n",
    "    # Save the output as a PNG file\n",
    "    output_image.save('output.png')\n"
   ]
  },
  {
   "cell_type": "code",
   "execution_count": 14,
   "id": "a7e12811",
   "metadata": {},
   "outputs": [],
   "source": [
    "def solve_picross():\n",
    "    old_board = copy.deepcopy(board)\n",
    "    while True:\n",
    "        # solve the rows\n",
    "        for i in range(len(row_clues)):\n",
    "            # generate all possible permutations of the row\n",
    "            perms = list(permutations(generate_arr(row_clues[i],width)))\n",
    "            # remove the duplicates\n",
    "            perms = list(set(perms))\n",
    "            # remove the invalid permutations\n",
    "            perms = [i for i in perms if check_arr_valid(i)]\n",
    "            # get the restrictions\n",
    "            restrictions = get_restrictions(row=i)\n",
    "            # get the full array\n",
    "            perms = [generate_full_arr(i) for i in sorted(perms)]\n",
    "            # apply the restrictions\n",
    "            perms = apply_restrictions(perms, restrictions)\n",
    "            # get the overlap\n",
    "            overlap = get_overlap(perms)\n",
    "            print(overlap,row_clues[i],\"at row\",i)\n",
    "            # check if the overlap solves the row\n",
    "            sol = check_arr_solved(overlap,row_clues[i])\n",
    "            print(sol)\n",
    "            # apply the sol to the board\n",
    "            apply_solution_to_board(sol,row=i)\n",
    "            print(len(board), [len(i) for i in board], \"\\n\", board)\n",
    "        \n",
    "        # solve the cols\n",
    "        for i in range(len(col_clues)):\n",
    "            # generate all possible permutations of the col\n",
    "            perms = list(permutations(generate_arr(col_clues[i],width)))\n",
    "            # remove the duplicates\n",
    "            perms = list(set(perms))\n",
    "            # remove the invalid permutations\n",
    "            perms = [i for i in perms if check_arr_valid(i)]\n",
    "            # get the restrictions\n",
    "            restrictions = get_restrictions(col=i)\n",
    "            # get the full array\n",
    "            perms = [generate_full_arr(i) for i in sorted(perms)]\n",
    "            # apply the restrictions\n",
    "            perms = apply_restrictions(perms, restrictions)\n",
    "            # get the overlap\n",
    "            overlap = get_overlap(perms)\n",
    "            print(overlap, col_clues[i], \"at col\", i)\n",
    "            # check if the overlap solves the row\n",
    "            sol = check_arr_solved(overlap, col_clues[i])\n",
    "            print(sol)\n",
    "            # apply the sol to the board\n",
    "            apply_solution_to_board(sol, col=i)\n",
    "            print(len(board), [len(i) for i in board], \"\\n\", board)\n",
    "        # check if the board has changed\n",
    "        has_changed = False\n",
    "        for i in range(len(board)):\n",
    "            for j in range(len(board[i])):\n",
    "                if board[i][j] != old_board[i][j]:\n",
    "                    has_changed = True\n",
    "        if not has_changed:\n",
    "            break\n",
    "        print(board)\n",
    "        old_board = copy.deepcopy(board)"
   ]
  },
  {
   "cell_type": "code",
   "execution_count": 15,
   "id": "3cae2b80",
   "metadata": {},
   "outputs": [],
   "source": [
    "# balloon\n",
    "row_clues = parse_clues(\"row_clues.txt\")\n",
    "col_clues = parse_clues(\"col_clues.txt\")"
   ]
  },
  {
   "cell_type": "code",
   "execution_count": 16,
   "id": "34c61b5b",
   "metadata": {},
   "outputs": [
    {
     "name": "stdout",
     "output_type": "stream",
     "text": [
      "[[3], [7], [1, 3, 3], [1, 3, 3], [1, 3, 3], [1, 3, 3], [1, 3, 3], [1, 3, 3], [1, 3, 3], [7], [1, 3, 1], [1, 1], [5], [1, 1], [5]]\n",
      "[[0], [0], [3], [2, 2], [1, 3, 2], [9, 4], [11, 1, 1], [4, 4, 1, 1], [2, 2, 1, 1], [3, 3, 4], [10], [7], [3], [0], [0]]\n"
     ]
    }
   ],
   "source": [
    "print(row_clues)\n",
    "print(col_clues)"
   ]
  },
  {
   "cell_type": "code",
   "execution_count": 17,
   "id": "4b898e2b",
   "metadata": {},
   "outputs": [
    {
     "name": "stdout",
     "output_type": "stream",
     "text": [
      "15 [15, 15, 15, 15, 15, 15, 15, 15, 15, 15, 15, 15, 15, 15, 15] \n",
      " [[0, 0, 0, 0, 0, 0, 0, 0, 0, 0, 0, 0, 0, 0, 0], [0, 0, 0, 0, 0, 0, 0, 0, 0, 0, 0, 0, 0, 0, 0], [0, 0, 0, 0, 0, 0, 0, 0, 0, 0, 0, 0, 0, 0, 0], [0, 0, 0, 0, 0, 0, 0, 0, 0, 0, 0, 0, 0, 0, 0], [0, 0, 0, 0, 0, 0, 0, 0, 0, 0, 0, 0, 0, 0, 0], [0, 0, 0, 0, 0, 0, 0, 0, 0, 0, 0, 0, 0, 0, 0], [0, 0, 0, 0, 0, 0, 0, 0, 0, 0, 0, 0, 0, 0, 0], [0, 0, 0, 0, 0, 0, 0, 0, 0, 0, 0, 0, 0, 0, 0], [0, 0, 0, 0, 0, 0, 0, 0, 0, 0, 0, 0, 0, 0, 0], [0, 0, 0, 0, 0, 0, 0, 0, 0, 0, 0, 0, 0, 0, 0], [0, 0, 0, 0, 0, 0, 0, 0, 0, 0, 0, 0, 0, 0, 0], [0, 0, 0, 0, 0, 0, 0, 0, 0, 0, 0, 0, 0, 0, 0], [0, 0, 0, 0, 0, 0, 0, 0, 0, 0, 0, 0, 0, 0, 0], [0, 0, 0, 0, 0, 0, 0, 0, 0, 0, 0, 0, 0, 0, 0], [0, 0, 0, 0, 0, 0, 0, 0, 0, 0, 0, 0, 0, 0, 0]]\n"
     ]
    }
   ],
   "source": [
    "# ship\n",
    "# row_clues = [[1], [7], [5], [5], [5], [7], [1], [10], [9], [7]]\n",
    "# col_clues = [[1], [2], [1, 1, 3], [5, 3], [\n",
    "#     5, 3], [10], [5, 3], [5, 3], [1, 1, 3], [2]]\n",
    "\n",
    "width = len(col_clues)\n",
    "height = len(row_clues)\n",
    "board = [[0 for _ in range(width)] for _ in range(height)]\n",
    "\n",
    "print(len(board),[len(i) for i in board],\"\\n\",board)"
   ]
  },
  {
   "cell_type": "code",
   "execution_count": 18,
   "id": "f88e11b5",
   "metadata": {},
   "outputs": [
    {
     "ename": "MemoryError",
     "evalue": "",
     "output_type": "error",
     "traceback": [
      "\u001b[1;31m---------------------------------------------------------------------------\u001b[0m",
      "\u001b[1;31mMemoryError\u001b[0m                               Traceback (most recent call last)",
      "Cell \u001b[1;32mIn[18], line 1\u001b[0m\n\u001b[1;32m----> 1\u001b[0m \u001b[43msolve_picross\u001b[49m\u001b[43m(\u001b[49m\u001b[43m)\u001b[49m\n",
      "Cell \u001b[1;32mIn[14], line 7\u001b[0m, in \u001b[0;36msolve_picross\u001b[1;34m()\u001b[0m\n\u001b[0;32m      3\u001b[0m \u001b[38;5;28;01mwhile\u001b[39;00m \u001b[38;5;28;01mTrue\u001b[39;00m:\n\u001b[0;32m      4\u001b[0m     \u001b[38;5;66;03m# solve the rows\u001b[39;00m\n\u001b[0;32m      5\u001b[0m     \u001b[38;5;28;01mfor\u001b[39;00m i \u001b[38;5;129;01min\u001b[39;00m \u001b[38;5;28mrange\u001b[39m(\u001b[38;5;28mlen\u001b[39m(row_clues)):\n\u001b[0;32m      6\u001b[0m         \u001b[38;5;66;03m# generate all possible permutations of the row\u001b[39;00m\n\u001b[1;32m----> 7\u001b[0m         perms \u001b[38;5;241m=\u001b[39m \u001b[38;5;28;43mlist\u001b[39;49m\u001b[43m(\u001b[49m\u001b[43mpermutations\u001b[49m\u001b[43m(\u001b[49m\u001b[43mgenerate_arr\u001b[49m\u001b[43m(\u001b[49m\u001b[43mrow_clues\u001b[49m\u001b[43m[\u001b[49m\u001b[43mi\u001b[49m\u001b[43m]\u001b[49m\u001b[43m,\u001b[49m\u001b[43mwidth\u001b[49m\u001b[43m)\u001b[49m\u001b[43m)\u001b[49m\u001b[43m)\u001b[49m\n\u001b[0;32m      8\u001b[0m         \u001b[38;5;66;03m# remove the duplicates\u001b[39;00m\n\u001b[0;32m      9\u001b[0m         perms \u001b[38;5;241m=\u001b[39m \u001b[38;5;28mlist\u001b[39m(\u001b[38;5;28mset\u001b[39m(perms))\n",
      "\u001b[1;31mMemoryError\u001b[0m: "
     ]
    }
   ],
   "source": [
    "solve_picross()\n"
   ]
  },
  {
   "cell_type": "code",
   "execution_count": null,
   "id": "89adbb38",
   "metadata": {},
   "outputs": [],
   "source": [
    "show_solution(board)"
   ]
  }
 ],
 "metadata": {
  "kernelspec": {
   "display_name": "Python 3 (ipykernel)",
   "language": "python",
   "name": "python3"
  },
  "language_info": {
   "codemirror_mode": {
    "name": "ipython",
    "version": 3
   },
   "file_extension": ".py",
   "mimetype": "text/x-python",
   "name": "python",
   "nbconvert_exporter": "python",
   "pygments_lexer": "ipython3",
   "version": "3.10.9"
  }
 },
 "nbformat": 4,
 "nbformat_minor": 5
}
